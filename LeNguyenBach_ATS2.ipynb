{
  "nbformat": 4,
  "nbformat_minor": 0,
  "metadata": {
    "colab": {
      "provenance": [],
      "collapsed_sections": [],
      "toc_visible": true
    },
    "kernelspec": {
      "name": "python3",
      "display_name": "Python 3"
    },
    "language_info": {
      "name": "python"
    }
  },
  "cells": [
    {
      "cell_type": "code",
      "source": [
        "import scipy\n",
        "import math as m"
      ],
      "metadata": {
        "id": "cXaykkg2OTDw"
      },
      "execution_count": 3,
      "outputs": []
    },
    {
      "cell_type": "markdown",
      "source": [
        "# Bài 1\n",
        "\n",
        "Thu nhập của một người lao động của một nước là biến ngẫu nhiên $X$ có phân phối chuẩn $\\mathcal{N}(9, 10)$. Chọn ngẫu nhiên một người lao động.\n",
        "\n",
        "**(a)** Tìm xác suất thu nhập của người lao động được chọn cao hơn gấp đôi mức lương trung bình.\n",
        "\n",
        "**(b)** Tìm ngưỡng $c$ là ngưỡng mức thu nhập cao sao cho $P(X < c) = 0.2$. \n",
        "\n",
        "**NOTE.** Phân phối chuẩn tắc $\\mathcal{N}(0,1)$ có CDF xác định bởi \n",
        "\n",
        "$$\n",
        "\\Phi(x) = P(X < x) = \\dfrac{1}{\\sqrt{2\\pi}}\\int_{-\\infty}^{x} e^{-\\tfrac{t^2}{2}}dt  \n",
        "$$\n",
        "\n",
        "*Giải*\n",
        "\n",
        "**(a)** Xác suất cần tìm là $P(X > 18) = 1 - \\Phi(18)$ \n",
        "\n",
        "**(b)** $P(X < c) = 0.2\\ \\Leftrightarrow\\ c = \\Phi^{-1}(0.2)$ "
      ],
      "metadata": {
        "id": "AMO1G2YTJ4CA"
      }
    },
    {
      "cell_type": "code",
      "execution_count": 4,
      "metadata": {
        "colab": {
          "base_uri": "https://localhost:8080/"
        },
        "id": "1McQoYufJzXV",
        "outputId": "b4a888de-9cfc-4a98-f683-1ea83360634d"
      },
      "outputs": [
        {
          "output_type": "stream",
          "name": "stdout",
          "text": [
            "Xác suất thu nhập của người lao động được chọn cao hơn gấp đôi mức lương trung bình: 0.002213262928959958\n",
            "Ngưỡng mức thu nhập cao là c = 6.338559974749019\n"
          ]
        }
      ],
      "source": [
        "X = scipy.stats.norm(9, m.sqrt(10)) \n",
        "\n",
        "res_1a = 1 - X.cdf(18)\n",
        "res_1b = X.ppf(0.2) \n",
        "\n",
        "print(f\"Xác suất thu nhập của người lao động được chọn cao hơn gấp đôi mức lương trung bình: {res_1a}\")\n",
        "print(f\"Ngưỡng mức thu nhập cao là c = {res_1b}\")\n"
      ]
    },
    {
      "cell_type": "markdown",
      "source": [
        "# Bài 2\n",
        "\n",
        "Tại một trạm xăng, xăng được lưu trữ trong bể chứa theo tuần. Gọi $X$ là biến ngẫu nhiên biểu diễn cho tỷ lệ dung tích được lưu trữ trong tuần. Gọi $Y$ là tỷ lệ của dung tích bể bán được trong cùng một tuần. Chúng ta biết rằng trạm xăng không thể bán được số xăng nhiều hơn những gì được tích trữ trong tuần, tức là $Y < X$. Hàm mật độ đồng thời của biến ngẫu nhiên $(X, Y)$ được xác định bởi \n",
        "\n",
        "$$\n",
        "f_{XY}(x,y) = \n",
        "\\begin{cases}\n",
        "  3x &\\text{nếu } 0\\leq y\\leq x\\leq 1, \\\\\n",
        "  0  &\\text{nếu trái lại}\n",
        "\\end{cases}\n",
        "$$\n",
        "\n",
        "\n",
        "**(a)** Tính $P(X\\leq 0.5\\ |\\ Y\\leq 0.03)$\n",
        "\n",
        "**(b)** Tính $P(Y< 0.3X\\ |\\ Y > 0.1X)$\n",
        "\n",
        "*Giải* \n",
        "\n",
        "**(a)** Xác suất cần tìm là \n",
        "\n",
        "\\begin{align*}\n",
        "  P(X\\leq 0.5\\ |\\ Y\\leq 0.03) \n",
        "&= \\dfrac{P(X\\leq 0.5,\\ Y\\leq 0.03)}{P(Y\\leq 0.03)} \\\\\n",
        "&= \\dfrac{\n",
        "  \\displaystyle \n",
        "  \\int_0^{0.03}\\int_0^x 3x\\mathrm{d}y\\mathrm{d}x + \n",
        "  \\int_{0.03}^{0.5}\\int_0^{0.03} 3x\\mathrm{d}y\\mathrm{d}x \n",
        "}{\n",
        "  \\displaystyle\n",
        "  \\int_0^{0.03}\\int_0^1 3x\\mathrm{d}x\\mathrm{d}y\n",
        "} = 0.2497\n",
        "\\end{align*}\n",
        "\n",
        "**(b)** Biến ngẫu nhiên $Z = \\dfrac{Y}{X}$ có hàm mật độ $f_Z(z)$ xác định bởi \n",
        "\n",
        "\\begin{align*}\n",
        "  f_Z(z) \n",
        "  = \\int_{-\\infty}^{+\\infty} \\vert x\\vert f_{XY}(x,zx)\\mathrm{d}x \n",
        "  = \\int_0^1 3x^2\\mathrm{d}y \n",
        "  = 1, \\quad \\forall z\\in [0,1]\n",
        "\\end{align*}\n",
        "\n",
        "Xác suất cần tìm là \n",
        "\n",
        "\\begin{align*}\n",
        "  P(Y< 0.3X\\ |\\ Y > 0.1X)\n",
        "  &= P(Z < 0.3\\ |\\ Z > 0.1) \\\\\n",
        "  &= \\dfrac{P(0.1 < Z < 0.3)}{P(Z > 0.1)}\\\\\n",
        "  &= \\dfrac{\n",
        "    \\displaystyle \\int_{0.1}^{0.3} \\mathrm{d}z\n",
        "  }{\n",
        "    \\displaystyle \\int_{0.1}^{1} \\mathrm{d}z\n",
        "  } = \\dfrac{2}{9}\n",
        "\\end{align*}\n"
      ],
      "metadata": {
        "id": "ar0RC4SrK79U"
      }
    },
    {
      "cell_type": "code",
      "source": [
        "# 2a\n",
        "f_XY         = lambda y, x: 3 * x\n",
        "int2D_numer1 = scipy.integrate.dblquad(f_XY, 0, 0.03, lambda x: 0, lambda x: x)[0] \n",
        "int2D_numer2 = scipy.integrate.dblquad(f_XY, 0.03, 0.5, lambda x: 0, lambda x: 0.03)[0] \n",
        "int2D_denom  = scipy.integrate.dblquad(f_XY, 0, 1, lambda y: 0, lambda y: 0.03)[0]\n",
        "\n",
        "res_2a = (int2D_numer1 + int2D_numer2) / int2D_denom\n",
        "print(f\"P(X < 0.5 | Y < 0.03) = {res_2a}\")\n",
        "\n",
        "# 2b \n",
        "# Nhẩm là ra ạ :)\n"
      ],
      "metadata": {
        "id": "YkxUEJp0OWVd",
        "colab": {
          "base_uri": "https://localhost:8080/"
        },
        "outputId": "4bf2a7f5-96a7-4c36-f8ce-6aca9404c33e"
      },
      "execution_count": 23,
      "outputs": [
        {
          "output_type": "stream",
          "name": "stdout",
          "text": [
            "P(X < 0.5 | Y < 0.03) = 0.24969999999999998\n"
          ]
        }
      ]
    },
    {
      "cell_type": "code",
      "source": [],
      "metadata": {
        "id": "bJoYO76rT58z"
      },
      "execution_count": null,
      "outputs": []
    }
  ]
}