{
 "cells": [
  {
   "cell_type": "code",
   "execution_count": 110,
   "metadata": {},
   "outputs": [],
   "source": [
    "import numpy as np\n",
    "import matplotlib\n",
    "import matplotlib.pyplot as plt\n",
    "import seaborn as sns"
   ]
  },
  {
   "cell_type": "code",
   "execution_count": 111,
   "metadata": {},
   "outputs": [],
   "source": [
    "sns.set(style=\"whitegrid\", font_scale=1.2, context=\"talk\", palette=sns.color_palette(\"bright\"), color_codes=False)\n",
    "matplotlib.rcParams['mathtext.fontset'] = 'cm'"
   ]
  },
  {
   "cell_type": "code",
   "execution_count": 112,
   "metadata": {},
   "outputs": [],
   "source": [
    "x = 5*np.random.randn(25,1) + 70"
   ]
  },
  {
   "cell_type": "code",
   "execution_count": 113,
   "metadata": {},
   "outputs": [
    {
     "data": {
      "text/plain": [
       "array([[70.8413021 ],\n",
       "       [72.40909114],\n",
       "       [65.79429129],\n",
       "       [64.23418471],\n",
       "       [76.90020446],\n",
       "       [78.72282384],\n",
       "       [65.82697848],\n",
       "       [67.26556957],\n",
       "       [66.26083097],\n",
       "       [73.93842005],\n",
       "       [64.13486426],\n",
       "       [73.10117845],\n",
       "       [66.91232323],\n",
       "       [66.3878007 ],\n",
       "       [67.90176129],\n",
       "       [77.95561177],\n",
       "       [66.19347523],\n",
       "       [76.16471164],\n",
       "       [63.79276329],\n",
       "       [66.40475006],\n",
       "       [65.24207531],\n",
       "       [76.11395115],\n",
       "       [66.15313313],\n",
       "       [68.69268336],\n",
       "       [69.4927402 ]])"
      ]
     },
     "execution_count": 113,
     "metadata": {},
     "output_type": "execute_result"
    }
   ],
   "source": [
    "x"
   ]
  },
  {
   "cell_type": "code",
   "execution_count": 114,
   "metadata": {},
   "outputs": [
    {
     "data": {
      "text/plain": [
       "(25, 1)"
      ]
     },
     "execution_count": 114,
     "metadata": {},
     "output_type": "execute_result"
    }
   ],
   "source": [
    "x.shape"
   ]
  },
  {
   "cell_type": "markdown",
   "metadata": {},
   "source": [
    "$X_t = \\phi_0 + \\phi_1 X_{t-1} + \\dots + \\phi_p X_{t-p} + Z_t$"
   ]
  },
  {
   "cell_type": "code",
   "execution_count": 124,
   "metadata": {},
   "outputs": [],
   "source": [
    "from typing import Callable, Any, Iterable\n",
    "\n",
    "def MA(p : int = 1, x : Iterable[Any] = []):\n",
    "    xt_p = x[p:]\n",
    "    xlag_p = np.ones((len(x) - p, 1))\n",
    "    \n",
    "    for i in range(1, p + 1):\n",
    "        xlag_p = np.concatenate((xlag_p, x[p - i : len(x) - i]), axis = 1)\n",
    "        print(f'lag_p: \\n {xlag_p} \\n shape: {xt_p.shape}')\n",
    "    \n",
    "    beta = (np.linalg.inv((np.dot(xlag_p.T, xlag_p))) @ xlag_p.T) @ xt_p\n",
    "    \n",
    "    print(f'beta: \\n {beta} \\n shape:  {beta.shape}')\n",
    "    \n",
    "    y = xlag_p @ beta\n",
    "    \n",
    "    if p == 1:\n",
    "        fig, ax = plt.subplots(figsize=(10,8))\n",
    "        plt.scatter(x[:-1], xt_p)\n",
    "        plt.plot(x[:-1], y, color='red')\n",
    "        plt.show()\n",
    "    \n",
    "    mse = np.sqrt(np.sum((y - xt_p) ** 2))\n",
    "    return y, beta, mse"
   ]
  },
  {
   "cell_type": "code",
   "execution_count": 125,
   "metadata": {},
   "outputs": [
    {
     "name": "stdout",
     "output_type": "stream",
     "text": [
      "lag_p: \n",
      " [[ 1.         70.8413021 ]\n",
      " [ 1.         72.40909114]\n",
      " [ 1.         65.79429129]\n",
      " [ 1.         64.23418471]\n",
      " [ 1.         76.90020446]\n",
      " [ 1.         78.72282384]\n",
      " [ 1.         65.82697848]\n",
      " [ 1.         67.26556957]\n",
      " [ 1.         66.26083097]\n",
      " [ 1.         73.93842005]\n",
      " [ 1.         64.13486426]\n",
      " [ 1.         73.10117845]\n",
      " [ 1.         66.91232323]\n",
      " [ 1.         66.3878007 ]\n",
      " [ 1.         67.90176129]\n",
      " [ 1.         77.95561177]\n",
      " [ 1.         66.19347523]\n",
      " [ 1.         76.16471164]\n",
      " [ 1.         63.79276329]\n",
      " [ 1.         66.40475006]\n",
      " [ 1.         65.24207531]\n",
      " [ 1.         76.11395115]\n",
      " [ 1.         66.15313313]\n",
      " [ 1.         68.69268336]] \n",
      " shape: (24, 1)\n",
      "beta: \n",
      " [[88.41478228]\n",
      " [-0.27346387]] \n",
      " shape:  (2, 1)\n"
     ]
    },
    {
     "data": {
      "image/png": "[encoded data removed]",
      "text/plain": [
       "<Figure size 720x576 with 1 Axes>"
      ]
     },
     "metadata": {},
     "output_type": "display_data"
    },
    {
     "data": {
      "text/plain": [
       "(array([[69.0422456 ],\n",
       "        [68.61351194],\n",
       "        [70.42242072],\n",
       "        [70.8490535 ],\n",
       "        [67.38535471],\n",
       "        [66.88693416],\n",
       "        [70.41348195],\n",
       "        [70.02007926],\n",
       "        [70.29483897],\n",
       "        [68.19529574],\n",
       "        [70.87621405],\n",
       "        [68.42425107],\n",
       "        [70.11667937],\n",
       "        [70.26011734],\n",
       "        [69.84610381],\n",
       "        [67.09673894],\n",
       "        [70.31325833],\n",
       "        [67.58648543],\n",
       "        [70.96976631],\n",
       "        [70.2554823 ],\n",
       "        [70.57343183],\n",
       "        [67.60036659],\n",
       "        [70.32429044],\n",
       "        [69.6298152 ]]),\n",
       " array([[88.41478228],\n",
       "        [-0.27346387]]),\n",
       " 22.383501712858365)"
      ]
     },
     "execution_count": 125,
     "metadata": {},
     "output_type": "execute_result"
    }
   ],
   "source": [
    "MA(p=1, x=x)"
   ]
  },
  {
   "cell_type": "code",
   "execution_count": 126,
   "metadata": {},
   "outputs": [
    {
     "name": "stdout",
     "output_type": "stream",
     "text": [
      "lag_p: \n",
      " [[ 1.         70.8413021 ]\n",
      " [ 1.         72.40909114]\n",
      " [ 1.         65.79429129]\n",
      " [ 1.         64.23418471]\n",
      " [ 1.         76.90020446]\n",
      " [ 1.         78.72282384]\n",
      " [ 1.         65.82697848]\n",
      " [ 1.         67.26556957]\n",
      " [ 1.         66.26083097]\n",
      " [ 1.         73.93842005]\n",
      " [ 1.         64.13486426]\n",
      " [ 1.         73.10117845]\n",
      " [ 1.         66.91232323]\n",
      " [ 1.         66.3878007 ]\n",
      " [ 1.         67.90176129]\n",
      " [ 1.         77.95561177]\n",
      " [ 1.         66.19347523]\n",
      " [ 1.         76.16471164]\n",
      " [ 1.         63.79276329]\n",
      " [ 1.         66.40475006]\n",
      " [ 1.         65.24207531]\n",
      " [ 1.         76.11395115]\n",
      " [ 1.         66.15313313]\n",
      " [ 1.         68.69268336]] \n",
      " shape: (24, 1)\n",
      "beta: \n",
      " [[88.41478228]\n",
      " [-0.27346387]] \n",
      " shape:  (2, 1)\n"
     ]
    },
    {
     "data": {
      "image/png": "[encoded data removed]",
      "text/plain": [
       "<Figure size 720x576 with 1 Axes>"
      ]
     },
     "metadata": {},
     "output_type": "display_data"
    },
    {
     "name": "stdout",
     "output_type": "stream",
     "text": [
      "lag_p: \n",
      " [[ 1.         72.40909114]\n",
      " [ 1.         65.79429129]\n",
      " [ 1.         64.23418471]\n",
      " [ 1.         76.90020446]\n",
      " [ 1.         78.72282384]\n",
      " [ 1.         65.82697848]\n",
      " [ 1.         67.26556957]\n",
      " [ 1.         66.26083097]\n",
      " [ 1.         73.93842005]\n",
      " [ 1.         64.13486426]\n",
      " [ 1.         73.10117845]\n",
      " [ 1.         66.91232323]\n",
      " [ 1.         66.3878007 ]\n",
      " [ 1.         67.90176129]\n",
      " [ 1.         77.95561177]\n",
      " [ 1.         66.19347523]\n",
      " [ 1.         76.16471164]\n",
      " [ 1.         63.79276329]\n",
      " [ 1.         66.40475006]\n",
      " [ 1.         65.24207531]\n",
      " [ 1.         76.11395115]\n",
      " [ 1.         66.15313313]\n",
      " [ 1.         68.69268336]] \n",
      " shape: (23, 1)\n",
      "lag_p: \n",
      " [[ 1.         72.40909114 70.8413021 ]\n",
      " [ 1.         65.79429129 72.40909114]\n",
      " [ 1.         64.23418471 65.79429129]\n",
      " [ 1.         76.90020446 64.23418471]\n",
      " [ 1.         78.72282384 76.90020446]\n",
      " [ 1.         65.82697848 78.72282384]\n",
      " [ 1.         67.26556957 65.82697848]\n",
      " [ 1.         66.26083097 67.26556957]\n",
      " [ 1.         73.93842005 66.26083097]\n",
      " [ 1.         64.13486426 73.93842005]\n",
      " [ 1.         73.10117845 64.13486426]\n",
      " [ 1.         66.91232323 73.10117845]\n",
      " [ 1.         66.3878007  66.91232323]\n",
      " [ 1.         67.90176129 66.3878007 ]\n",
      " [ 1.         77.95561177 67.90176129]\n",
      " [ 1.         66.19347523 77.95561177]\n",
      " [ 1.         76.16471164 66.19347523]\n",
      " [ 1.         63.79276329 76.16471164]\n",
      " [ 1.         66.40475006 63.79276329]\n",
      " [ 1.         65.24207531 66.40475006]\n",
      " [ 1.         76.11395115 65.24207531]\n",
      " [ 1.         66.15313313 76.11395115]\n",
      " [ 1.         68.69268336 66.15313313]] \n",
      " shape: (23, 1)\n",
      "beta: \n",
      " [[106.07632128]\n",
      " [ -0.33560273]\n",
      " [ -0.1941494 ]] \n",
      " shape:  (3, 1)\n",
      "lag_p: \n",
      " [[ 1.         65.79429129]\n",
      " [ 1.         64.23418471]\n",
      " [ 1.         76.90020446]\n",
      " [ 1.         78.72282384]\n",
      " [ 1.         65.82697848]\n",
      " [ 1.         67.26556957]\n",
      " [ 1.         66.26083097]\n",
      " [ 1.         73.93842005]\n",
      " [ 1.         64.13486426]\n",
      " [ 1.         73.10117845]\n",
      " [ 1.         66.91232323]\n",
      " [ 1.         66.3878007 ]\n",
      " [ 1.         67.90176129]\n",
      " [ 1.         77.95561177]\n",
      " [ 1.         66.19347523]\n",
      " [ 1.         76.16471164]\n",
      " [ 1.         63.79276329]\n",
      " [ 1.         66.40475006]\n",
      " [ 1.         65.24207531]\n",
      " [ 1.         76.11395115]\n",
      " [ 1.         66.15313313]\n",
      " [ 1.         68.69268336]] \n",
      " shape: (22, 1)\n",
      "lag_p: \n",
      " [[ 1.         65.79429129 72.40909114]\n",
      " [ 1.         64.23418471 65.79429129]\n",
      " [ 1.         76.90020446 64.23418471]\n",
      " [ 1.         78.72282384 76.90020446]\n",
      " [ 1.         65.82697848 78.72282384]\n",
      " [ 1.         67.26556957 65.82697848]\n",
      " [ 1.         66.26083097 67.26556957]\n",
      " [ 1.         73.93842005 66.26083097]\n",
      " [ 1.         64.13486426 73.93842005]\n",
      " [ 1.         73.10117845 64.13486426]\n",
      " [ 1.         66.91232323 73.10117845]\n",
      " [ 1.         66.3878007  66.91232323]\n",
      " [ 1.         67.90176129 66.3878007 ]\n",
      " [ 1.         77.95561177 67.90176129]\n",
      " [ 1.         66.19347523 77.95561177]\n",
      " [ 1.         76.16471164 66.19347523]\n",
      " [ 1.         63.79276329 76.16471164]\n",
      " [ 1.         66.40475006 63.79276329]\n",
      " [ 1.         65.24207531 66.40475006]\n",
      " [ 1.         76.11395115 65.24207531]\n",
      " [ 1.         66.15313313 76.11395115]\n",
      " [ 1.         68.69268336 66.15313313]] \n",
      " shape: (22, 1)\n",
      "lag_p: \n",
      " [[ 1.         65.79429129 72.40909114 70.8413021 ]\n",
      " [ 1.         64.23418471 65.79429129 72.40909114]\n",
      " [ 1.         76.90020446 64.23418471 65.79429129]\n",
      " [ 1.         78.72282384 76.90020446 64.23418471]\n",
      " [ 1.         65.82697848 78.72282384 76.90020446]\n",
      " [ 1.         67.26556957 65.82697848 78.72282384]\n",
      " [ 1.         66.26083097 67.26556957 65.82697848]\n",
      " [ 1.         73.93842005 66.26083097 67.26556957]\n",
      " [ 1.         64.13486426 73.93842005 66.26083097]\n",
      " [ 1.         73.10117845 64.13486426 73.93842005]\n",
      " [ 1.         66.91232323 73.10117845 64.13486426]\n",
      " [ 1.         66.3878007  66.91232323 73.10117845]\n",
      " [ 1.         67.90176129 66.3878007  66.91232323]\n",
      " [ 1.         77.95561177 67.90176129 66.3878007 ]\n",
      " [ 1.         66.19347523 77.95561177 67.90176129]\n",
      " [ 1.         76.16471164 66.19347523 77.95561177]\n",
      " [ 1.         63.79276329 76.16471164 66.19347523]\n",
      " [ 1.         66.40475006 63.79276329 76.16471164]\n",
      " [ 1.         65.24207531 66.40475006 63.79276329]\n",
      " [ 1.         76.11395115 65.24207531 66.40475006]\n",
      " [ 1.         66.15313313 76.11395115 65.24207531]\n",
      " [ 1.         68.69268336 66.15313313 76.11395115]] \n",
      " shape: (22, 1)\n",
      "beta: \n",
      " [[154.61319173]\n",
      " [ -0.41337306]\n",
      " [ -0.34183313]\n",
      " [ -0.47074843]] \n",
      " shape:  (4, 1)\n",
      "lag_p: \n",
      " [[ 1.         64.23418471]\n",
      " [ 1.         76.90020446]\n",
      " [ 1.         78.72282384]\n",
      " [ 1.         65.82697848]\n",
      " [ 1.         67.26556957]\n",
      " [ 1.         66.26083097]\n",
      " [ 1.         73.93842005]\n",
      " [ 1.         64.13486426]\n",
      " [ 1.         73.10117845]\n",
      " [ 1.         66.91232323]\n",
      " [ 1.         66.3878007 ]\n",
      " [ 1.         67.90176129]\n",
      " [ 1.         77.95561177]\n",
      " [ 1.         66.19347523]\n",
      " [ 1.         76.16471164]\n",
      " [ 1.         63.79276329]\n",
      " [ 1.         66.40475006]\n",
      " [ 1.         65.24207531]\n",
      " [ 1.         76.11395115]\n",
      " [ 1.         66.15313313]\n",
      " [ 1.         68.69268336]] \n",
      " shape: (21, 1)\n",
      "lag_p: \n",
      " [[ 1.         64.23418471 65.79429129]\n",
      " [ 1.         76.90020446 64.23418471]\n",
      " [ 1.         78.72282384 76.90020446]\n",
      " [ 1.         65.82697848 78.72282384]\n",
      " [ 1.         67.26556957 65.82697848]\n",
      " [ 1.         66.26083097 67.26556957]\n",
      " [ 1.         73.93842005 66.26083097]\n",
      " [ 1.         64.13486426 73.93842005]\n",
      " [ 1.         73.10117845 64.13486426]\n",
      " [ 1.         66.91232323 73.10117845]\n",
      " [ 1.         66.3878007  66.91232323]\n",
      " [ 1.         67.90176129 66.3878007 ]\n",
      " [ 1.         77.95561177 67.90176129]\n",
      " [ 1.         66.19347523 77.95561177]\n",
      " [ 1.         76.16471164 66.19347523]\n",
      " [ 1.         63.79276329 76.16471164]\n",
      " [ 1.         66.40475006 63.79276329]\n",
      " [ 1.         65.24207531 66.40475006]\n",
      " [ 1.         76.11395115 65.24207531]\n",
      " [ 1.         66.15313313 76.11395115]\n",
      " [ 1.         68.69268336 66.15313313]] \n",
      " shape: (21, 1)\n",
      "lag_p: \n",
      " [[ 1.         64.23418471 65.79429129 72.40909114]\n",
      " [ 1.         76.90020446 64.23418471 65.79429129]\n",
      " [ 1.         78.72282384 76.90020446 64.23418471]\n",
      " [ 1.         65.82697848 78.72282384 76.90020446]\n",
      " [ 1.         67.26556957 65.82697848 78.72282384]\n",
      " [ 1.         66.26083097 67.26556957 65.82697848]\n",
      " [ 1.         73.93842005 66.26083097 67.26556957]\n",
      " [ 1.         64.13486426 73.93842005 66.26083097]\n",
      " [ 1.         73.10117845 64.13486426 73.93842005]\n",
      " [ 1.         66.91232323 73.10117845 64.13486426]\n",
      " [ 1.         66.3878007  66.91232323 73.10117845]\n",
      " [ 1.         67.90176129 66.3878007  66.91232323]\n",
      " [ 1.         77.95561177 67.90176129 66.3878007 ]\n",
      " [ 1.         66.19347523 77.95561177 67.90176129]\n",
      " [ 1.         76.16471164 66.19347523 77.95561177]\n",
      " [ 1.         63.79276329 76.16471164 66.19347523]\n",
      " [ 1.         66.40475006 63.79276329 76.16471164]\n",
      " [ 1.         65.24207531 66.40475006 63.79276329]\n",
      " [ 1.         76.11395115 65.24207531 66.40475006]\n",
      " [ 1.         66.15313313 76.11395115 65.24207531]\n",
      " [ 1.         68.69268336 66.15313313 76.11395115]] \n",
      " shape: (21, 1)\n",
      "lag_p: \n",
      " [[ 1.         64.23418471 65.79429129 72.40909114 70.8413021 ]\n",
      " [ 1.         76.90020446 64.23418471 65.79429129 72.40909114]\n",
      " [ 1.         78.72282384 76.90020446 64.23418471 65.79429129]\n",
      " [ 1.         65.82697848 78.72282384 76.90020446 64.23418471]\n",
      " [ 1.         67.26556957 65.82697848 78.72282384 76.90020446]\n",
      " [ 1.         66.26083097 67.26556957 65.82697848 78.72282384]\n",
      " [ 1.         73.93842005 66.26083097 67.26556957 65.82697848]\n",
      " [ 1.         64.13486426 73.93842005 66.26083097 67.26556957]\n",
      " [ 1.         73.10117845 64.13486426 73.93842005 66.26083097]\n",
      " [ 1.         66.91232323 73.10117845 64.13486426 73.93842005]\n",
      " [ 1.         66.3878007  66.91232323 73.10117845 64.13486426]\n",
      " [ 1.         67.90176129 66.3878007  66.91232323 73.10117845]\n",
      " [ 1.         77.95561177 67.90176129 66.3878007  66.91232323]\n",
      " [ 1.         66.19347523 77.95561177 67.90176129 66.3878007 ]\n",
      " [ 1.         76.16471164 66.19347523 77.95561177 67.90176129]\n",
      " [ 1.         63.79276329 76.16471164 66.19347523 77.95561177]\n",
      " [ 1.         66.40475006 63.79276329 76.16471164 66.19347523]\n",
      " [ 1.         65.24207531 66.40475006 63.79276329 76.16471164]\n",
      " [ 1.         76.11395115 65.24207531 66.40475006 63.79276329]\n",
      " [ 1.         66.15313313 76.11395115 65.24207531 66.40475006]\n",
      " [ 1.         68.69268336 66.15313313 76.11395115 65.24207531]] \n",
      " shape: (21, 1)\n",
      "beta: \n",
      " [[ 1.42964118e+02]\n",
      " [-4.07157545e-01]\n",
      " [-2.90935254e-01]\n",
      " [-4.26408769e-01]\n",
      " [ 6.98725696e-02]] \n",
      " shape:  (5, 1)\n"
     ]
    }
   ],
   "source": [
    "_, _, mse1 = MA(p=1, x=x)\n",
    "_, _, mse2 = MA(p=2, x=x)\n",
    "_, _, mse3 = MA(p=3, x=x)\n",
    "_, _, mse4 = MA(p=4, x=x)"
   ]
  },
  {
   "cell_type": "code",
   "execution_count": 127,
   "metadata": {},
   "outputs": [
    {
     "data": {
      "text/plain": [
       "22.383501712858365"
      ]
     },
     "execution_count": 127,
     "metadata": {},
     "output_type": "execute_result"
    }
   ],
   "source": [
    "mse1"
   ]
  },
  {
   "cell_type": "code",
   "execution_count": 128,
   "metadata": {},
   "outputs": [
    {
     "data": {
      "text/plain": [
       "21.684538543139812"
      ]
     },
     "execution_count": 128,
     "metadata": {},
     "output_type": "execute_result"
    }
   ],
   "source": [
    "mse2"
   ]
  },
  {
   "cell_type": "code",
   "execution_count": 129,
   "metadata": {},
   "outputs": [
    {
     "data": {
      "text/plain": [
       "18.995369853070468"
      ]
     },
     "execution_count": 129,
     "metadata": {},
     "output_type": "execute_result"
    }
   ],
   "source": [
    "mse3"
   ]
  },
  {
   "cell_type": "code",
   "execution_count": 130,
   "metadata": {},
   "outputs": [
    {
     "data": {
      "text/plain": [
       "18.195767657704497"
      ]
     },
     "execution_count": 130,
     "metadata": {},
     "output_type": "execute_result"
    }
   ],
   "source": [
    "mse4"
   ]
  },
  {
   "cell_type": "code",
   "execution_count": null,
   "metadata": {},
   "outputs": [],
   "source": []
  }
 ],
 "metadata": {
  "kernelspec": {
   "display_name": "Python 3.9.1 64-bit",
   "language": "python",
   "name": "python3"
  },
  "language_info": {
   "codemirror_mode": {
    "name": "ipython",
    "version": 3
   },
   "file_extension": ".py",
   "mimetype": "text/x-python",
   "name": "python",
   "nbconvert_exporter": "python",
   "pygments_lexer": "ipython3",
   "version": "3.9.1"
  },
  "orig_nbformat": 4,
  "vscode": {
   "interpreter": {
    "hash": "df8a48ca9e685d22343965aa2cdf0372bb61bcf27b5655933b4ffe34f0a0b741"
   }
  }
 },
 "nbformat": 4,
 "nbformat_minor": 2
}
